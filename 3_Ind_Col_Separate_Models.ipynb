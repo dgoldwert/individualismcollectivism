{
 "cells": [
  {
   "cell_type": "code",
   "execution_count": 1,
   "metadata": {},
   "outputs": [
    {
     "data": {
      "application/javascript": [
       "IPython.notebook.set_autosave_interval(30000)"
      ]
     },
     "metadata": {},
     "output_type": "display_data"
    },
    {
     "name": "stdout",
     "output_type": "stream",
     "text": [
      "Autosaving every 30 seconds\n"
     ]
    }
   ],
   "source": [
    "# Core analysis packages\n",
    "import numpy as np\n",
    "import os, sys\n",
    "import pandas as pd\n",
    "from scipy import stats\n",
    "from scipy.special import comb\n",
    "import statsmodels.api as sm\n",
    "import statsmodels.formula.api as smf\n",
    "from statsmodels.stats import anova\n",
    "import bff\n",
    "import matplotlib.pyplot as plt\n",
    "plt.rcdefaults()\n",
    "import seaborn as sns \n",
    "sns.set(style=\"ticks\", color_codes=True)\n",
    "sns.set_style(\"white\")\n",
    "sns.set_style({'xtick.bottom': True, 'ytick.left': True})\n",
    "colorref = [\"gray\", \"royalblue\", \"crimson\", \"goldenrod\", \"mediumorchid\", \"seagreen\"]\n",
    "\n",
    "# iPython magic commands\n",
    "%matplotlib notebook\n",
    "%load_ext autoreload\n",
    "%autoreload 2\n",
    "%autosave 30\n",
    "\n",
    "SMALL_SIZE = 12\n",
    "MEDIUM_SIZE = 12\n",
    "BIG_SIZE = 14\n",
    "\n",
    "plt.rc('font', size=SMALL_SIZE)          # controls default text sizes\n",
    "plt.rc('axes', titlesize=SMALL_SIZE)     # fontsize of the axes title\n",
    "plt.rc('axes', labelsize=MEDIUM_SIZE)    # fontsize of the x and y labels\n",
    "plt.rc('xtick', labelsize=SMALL_SIZE)    # fontsize of the tick labels\n",
    "plt.rc('ytick', labelsize=SMALL_SIZE)    # fontsize of the tick labels\n",
    "plt.rc('legend', fontsize=SMALL_SIZE)    # legend fontsize\n",
    "plt.rc('figure', titlesize=BIG_SIZE)  # fontsize of the figure title\n",
    "cust_palette = sns.color_palette(\"Paired\")[6:10]\n",
    "cust_palette = [cust_palette[i] for i in [1,0,3,2]]\n",
    "\n",
    "def median_split(S):\n",
    "    return S > S.median()"
   ]
  },
  {
   "cell_type": "code",
   "execution_count": 2,
   "metadata": {
    "scrolled": true
   },
   "outputs": [],
   "source": [
    "#import main df\n",
    "df = pd.read_excel(\"data63.xlsx\")\n",
    "\n",
    "#load predictor dataframe\n",
    "predictordata = pd.read_excel(\"PredictorData.xlsx\")\n",
    "\n",
    "#merge main dataframe with predictor data & wvs survey data\n",
    "df = df.merge(predictordata, on='Country', how='left')"
   ]
  },
  {
   "cell_type": "code",
   "execution_count": 3,
   "metadata": {},
   "outputs": [],
   "source": [
    "df = df.rename(columns={\"IndividualismHI\": \"Ind_score\"})\n",
    "#create variable split around 50\n",
    "df['Ind_ms'] = df['Ind_score'].apply(lambda x: 1 if x < 50 else 2)\n",
    "\n",
    "#global median split\n",
    "df_col = df.loc[df['Ind_ms']==1] #dataframe for collectivist countries\n",
    "df_ind = df.loc[df['Ind_ms']==2] #dataframe for individualist countries\n",
    "df = df.dropna(subset=['Ind_ms'])\n",
    "#59440 participants"
   ]
  },
  {
   "cell_type": "markdown",
   "metadata": {},
   "source": [
    "## Supplemental Analyses"
   ]
  },
  {
   "cell_type": "code",
   "execution_count": 4,
   "metadata": {},
   "outputs": [
    {
     "data": {
      "text/plain": [
       "Loading required package: Matrix\n"
      ]
     },
     "metadata": {},
     "output_type": "display_data"
    },
    {
     "data": {
      "text/plain": [
       "\n",
       "Attaching package: ‘lmerTest’\n",
       "\n",
       "The following object is masked from ‘package:lme4’:\n",
       "\n",
       "    lmer\n",
       "\n",
       "The following object is masked from ‘package:stats’:\n",
       "\n",
       "    step\n",
       "\n"
      ]
     },
     "metadata": {},
     "output_type": "display_data"
    },
    {
     "data": {
      "text/plain": [
       "array(['ordinal', 'lmerTest', 'lme4', 'Matrix', 'tools', 'stats',\n",
       "       'graphics', 'grDevices', 'utils', 'datasets', 'methods', 'base'],\n",
       "      dtype='<U9')"
      ]
     },
     "execution_count": 4,
     "metadata": {},
     "output_type": "execute_result"
    }
   ],
   "source": [
    "import warnings\n",
    "warnings.filterwarnings('ignore')\n",
    "\n",
    "# Load R in Python\n",
    "%load_ext rpy2.ipython\n",
    "\n",
    "%R library(lme4)\n",
    "%R library(lmerTest)\n",
    "%R library(ordinal)"
   ]
  },
  {
   "cell_type": "markdown",
   "metadata": {},
   "source": [
    "# 1.1 Belief"
   ]
  },
  {
   "cell_type": "code",
   "execution_count": 5,
   "metadata": {},
   "outputs": [],
   "source": [
    "df_belief = pd.melt(\n",
    "    df.loc[:, ['ResponseId', 'Country', 'condName', 'Ind_score', \"Ind_ms\", \"Income\", \"Edu\", \"Age\", \"Gender\", \"GDP\", \"EPI\", 'Belief1', 'Belief2', 'Belief3', 'Belief4']],\n",
    "    id_vars=['ResponseId', 'Country', 'condName', 'Ind_score', \"Ind_ms\", \"Income\", \"Edu\", \"Age\", \"Gender\", \"GDP\", \"EPI\"],\n",
    "    var_name=\"Item\",\n",
    "    value_name=\"Belief\"\n",
    ")\n",
    "df_belief['condName'] = df_belief['condName'].replace(['Control'], 'aControl')\n",
    "df_belief = df_belief.dropna(subset=[\"ResponseId\", \"Belief\", \"condName\"])"
   ]
  },
  {
   "cell_type": "code",
   "execution_count": 6,
   "metadata": {},
   "outputs": [],
   "source": [
    "#create separate dataframes\n",
    "df_col_belief = df_belief.loc[df_belief['Ind_ms']==1] #dataframe for collectivist countries\n",
    "df_ind_belief = df_belief.loc[df_belief['Ind_ms']==2] #dataframe for individualist countries\n",
    "%Rpush df_col_belief\n",
    "%Rpush df_ind_belief"
   ]
  },
  {
   "cell_type": "markdown",
   "metadata": {},
   "source": [
    "### Collectivist Countries"
   ]
  },
  {
   "cell_type": "code",
   "execution_count": 7,
   "metadata": {
    "scrolled": true
   },
   "outputs": [
    {
     "name": "stdout",
     "output_type": "stream",
     "text": [
      "Linear mixed model fit by REML. t-tests use Satterthwaite's method [\n",
      "lmerModLmerTest]\n",
      "Formula: Belief ~ condName + (1 | Country) + (1 | ResponseId) + (1 | Item)\n",
      "   Data: df_col_belief\n",
      "\n",
      "REML criterion at convergence: 819139.3\n",
      "\n",
      "Scaled residuals: \n",
      "    Min      1Q  Median      3Q     Max \n",
      "-6.0604 -0.2144  0.1154  0.2876  5.4822 \n",
      "\n",
      "Random effects:\n",
      " Groups     Name        Variance Std.Dev.\n",
      " ResponseId (Intercept) 337.7076 18.3768 \n",
      " Country    (Intercept)  30.1425  5.4902 \n",
      " Item       (Intercept)   0.3442  0.5866 \n",
      " Residual               162.2155 12.7364 \n",
      "Number of obs: 96517, groups:  ResponseId, 24187; Country, 38; Item, 4\n",
      "\n",
      "Fixed effects:\n",
      "                          Estimate Std. Error        df t value Pr(>|t|)    \n",
      "(Intercept)              8.259e+01  1.033e+00 5.523e+01  79.951  < 2e-16 ***\n",
      "condNameBindingMoral     5.196e-01  6.054e-01 2.407e+04   0.858 0.390776    \n",
      "condNameCollectAction    1.803e+00  6.006e-01 2.407e+04   3.002 0.002684 ** \n",
      "condNameDynamicNorm      5.408e-01  6.011e-01 2.408e+04   0.900 0.368283    \n",
      "condNameFutureSelfCont   2.423e+00  6.310e-01 2.408e+04   3.841 0.000123 ***\n",
      "condNameLetterFutureGen  1.665e+00  6.307e-01 2.407e+04   2.640 0.008302 ** \n",
      "condNameNegativeEmotions 2.794e-01  6.023e-01 2.407e+04   0.464 0.642779    \n",
      "condNamePluralIgnorance  4.405e-01  6.056e-01 2.406e+04   0.727 0.467017    \n",
      "condNamePsychDistance    2.055e+00  6.279e-01 2.407e+04   3.273 0.001065 ** \n",
      "condNameSciConsens       1.074e+00  5.963e-01 2.407e+04   1.802 0.071564 .  \n",
      "condNameSystemJust       1.661e+00  6.009e-01 2.407e+04   2.765 0.005700 ** \n",
      "condNameWorkTogetherNorm 3.414e-01  6.001e-01 2.406e+04   0.569 0.569379    \n",
      "---\n",
      "Signif. codes:  0 ‘***’ 0.001 ‘**’ 0.01 ‘*’ 0.05 ‘.’ 0.1 ‘ ’ 1\n",
      "\n",
      "Correlation of Fixed Effects:\n",
      "            (Intr) cndNBM cndNCA cndNDN cnNFSC cnNLFG cndNNE cndNPI cndNPD\n",
      "cndNmBndngM -0.289                                                        \n",
      "cndNmCllctA -0.292  0.498                                                 \n",
      "cndNmDynmcN -0.291  0.498  0.502                                          \n",
      "cndNmFtrSlC -0.277  0.474  0.478  0.478                                   \n",
      "cndNmLttrFG -0.277  0.475  0.478  0.478  0.456                            \n",
      "cndNmNgtvEm -0.291  0.497  0.501  0.500  0.476  0.477                     \n",
      "cndNmPlrlIg -0.288  0.495  0.498  0.499  0.474  0.474  0.497              \n",
      "cndNmPsychD -0.279  0.478  0.481  0.480  0.457  0.458  0.479  0.477       \n",
      "cndNmScCnsn -0.294  0.502  0.506  0.506  0.481  0.482  0.505  0.502  0.484\n",
      "cndNmSystmJ -0.291  0.499  0.502  0.502  0.478  0.478  0.501  0.499  0.480\n",
      "cndNmWrkTgN -0.292  0.499  0.503  0.503  0.478  0.479  0.501  0.500  0.481\n",
      "            cndNSC cndNSJ\n",
      "cndNmBndngM              \n",
      "cndNmCllctA              \n",
      "cndNmDynmcN              \n",
      "cndNmFtrSlC              \n",
      "cndNmLttrFG              \n",
      "cndNmNgtvEm              \n",
      "cndNmPlrlIg              \n",
      "cndNmPsychD              \n",
      "cndNmScCnsn              \n",
      "cndNmSystmJ  0.506       \n",
      "cndNmWrkTgN  0.507  0.503\n"
     ]
    }
   ],
   "source": [
    "%%R\n",
    "M1 <- lmer(Belief ~ condName + (1 | Country) + (1 | ResponseId) + (1 | Item), data = df_col_belief)\n",
    "print(summary(M1))\n",
    "\n",
    "write.csv(coef(summary(M1)), \"coef_col_belief.csv\") #export coefficients to csv"
   ]
  },
  {
   "cell_type": "markdown",
   "metadata": {},
   "source": [
    "### Individualist Countries"
   ]
  },
  {
   "cell_type": "code",
   "execution_count": 8,
   "metadata": {
    "scrolled": true
   },
   "outputs": [
    {
     "name": "stdout",
     "output_type": "stream",
     "text": [
      "Linear mixed model fit by REML. t-tests use Satterthwaite's method [\n",
      "lmerModLmerTest]\n",
      "Formula: Belief ~ condName + (1 | Country) + (1 | ResponseId) + (1 | Item)\n",
      "   Data: df_ind_belief\n",
      "\n",
      "REML criterion at convergence: 1175136\n",
      "\n",
      "Scaled residuals: \n",
      "    Min      1Q  Median      3Q     Max \n",
      "-6.4546 -0.2923  0.0807  0.3003  6.2571 \n",
      "\n",
      "Random effects:\n",
      " Groups     Name        Variance Std.Dev.\n",
      " ResponseId (Intercept) 612.6244 24.7513 \n",
      " Country    (Intercept)  27.5571  5.2495 \n",
      " Item       (Intercept)   0.2904  0.5389 \n",
      " Residual               138.2471 11.7579 \n",
      "Number of obs: 138245, groups:  ResponseId, 34595; Country, 25; Item, 4\n",
      "\n",
      "Fixed effects:\n",
      "                           Estimate Std. Error         df t value Pr(>|t|)    \n",
      "(Intercept)                 76.1891     1.1852    35.5985  64.282  < 2e-16 ***\n",
      "condNameBindingMoral         1.5327     0.6617 34552.3131   2.316  0.02055 *  \n",
      "condNameCollectAction        2.7016     0.6610 34549.6414   4.087 4.37e-05 ***\n",
      "condNameDynamicNorm          0.8712     0.6603 34556.1941   1.319  0.18705    \n",
      "condNameFutureSelfCont       1.3978     0.6995 34551.5470   1.998  0.04569 *  \n",
      "condNameLetterFutureGen      2.0770     0.7149 34550.3745   2.906  0.00367 ** \n",
      "condNameNegativeEmotions     1.1215     0.6594 34550.2431   1.701  0.08898 .  \n",
      "condNamePluralIgnorance      1.2144     0.6568 34551.6745   1.849  0.06448 .  \n",
      "condNamePsychDistance        3.9870     0.6678 34549.5234   5.970 2.39e-09 ***\n",
      "condNameSciConsens           1.4036     0.6574 34552.5424   2.135  0.03275 *  \n",
      "condNameSystemJust           1.9085     0.6602 34554.6341   2.891  0.00384 ** \n",
      "condNameWorkTogetherNorm    -1.2276     0.6619 34550.2530  -1.855  0.06367 .  \n",
      "---\n",
      "Signif. codes:  0 ‘***’ 0.001 ‘**’ 0.01 ‘*’ 0.05 ‘.’ 0.1 ‘ ’ 1\n",
      "\n",
      "Correlation of Fixed Effects:\n",
      "            (Intr) cndNBM cndNCA cndNDN cnNFSC cnNLFG cndNNE cndNPI cndNPD\n",
      "cndNmBndngM -0.280                                                        \n",
      "cndNmCllctA -0.280  0.505                                                 \n",
      "cndNmDynmcN -0.281  0.505  0.506                                          \n",
      "cndNmFtrSlC -0.265  0.477  0.477  0.478                                   \n",
      "cndNmLttrFG -0.259  0.467  0.467  0.468  0.442                            \n",
      "cndNmNgtvEm -0.281  0.506  0.506  0.507  0.479  0.468                     \n",
      "cndNmPlrlIg -0.283  0.508  0.508  0.509  0.480  0.470  0.510              \n",
      "cndNmPsychD -0.278  0.500  0.500  0.501  0.473  0.463  0.501  0.503       \n",
      "cndNmScCnsn -0.282  0.507  0.508  0.509  0.480  0.470  0.509  0.511  0.503\n",
      "cndNmSystmJ -0.281  0.505  0.506  0.507  0.478  0.468  0.507  0.509  0.501\n",
      "cndNmWrkTgN -0.280  0.504  0.504  0.505  0.477  0.467  0.506  0.508  0.500\n",
      "            cndNSC cndNSJ\n",
      "cndNmBndngM              \n",
      "cndNmCllctA              \n",
      "cndNmDynmcN              \n",
      "cndNmFtrSlC              \n",
      "cndNmLttrFG              \n",
      "cndNmNgtvEm              \n",
      "cndNmPlrlIg              \n",
      "cndNmPsychD              \n",
      "cndNmScCnsn              \n",
      "cndNmSystmJ  0.509       \n",
      "cndNmWrkTgN  0.507  0.505\n"
     ]
    }
   ],
   "source": [
    "%%R\n",
    "M1 <- lmer(Belief ~ condName + (1 | Country) + (1 | ResponseId) + (1 | Item), data = df_ind_belief)\n",
    "print(summary(M1))\n",
    "\n",
    "write.csv(coef(summary(M1)), \"coef_ind_belief.csv\") #export coefficients to csv"
   ]
  },
  {
   "cell_type": "markdown",
   "metadata": {},
   "source": [
    "# 1.2 Policy Support"
   ]
  },
  {
   "cell_type": "code",
   "execution_count": 9,
   "metadata": {},
   "outputs": [],
   "source": [
    "df_policy = pd.melt(\n",
    "    df.loc[:, ['ResponseId', 'Country', 'condName', 'Ind_score', \"Ind_ms\", 'Income', 'Edu', 'Age', 'Gender', \"GDP\", \"EPI\",'Policy1', 'Policy2', 'Policy3', 'Policy4','Policy5', 'Policy6', 'Policy7', 'Policy8', 'Policy9']],\n",
    "    id_vars=['ResponseId', 'Country', 'condName', 'Ind_score', \"Ind_ms\", 'Income', 'Edu', 'Age', 'Gender', \"GDP\", \"EPI\"],\n",
    "    var_name=\"Item\",\n",
    "    value_name=\"Policy\"\n",
    ")\n",
    "df_policy['condName'] = df_policy['condName'].replace(['Control'], 'aControl')\n",
    "df_policy = df_policy.dropna(subset=[\"ResponseId\", \"Policy\", \"condName\"])"
   ]
  },
  {
   "cell_type": "code",
   "execution_count": 10,
   "metadata": {},
   "outputs": [],
   "source": [
    "df_col_policy = df_policy.loc[df_policy['Ind_ms']==1] #dataframe for collectivist countries\n",
    "df_ind_policy = df_policy.loc[df_policy['Ind_ms']==2] #dataframe for individualist countries\n",
    "%Rpush df_col_policy\n",
    "%Rpush df_ind_policy"
   ]
  },
  {
   "cell_type": "markdown",
   "metadata": {},
   "source": [
    "### Collectivist Countries"
   ]
  },
  {
   "cell_type": "code",
   "execution_count": 11,
   "metadata": {
    "scrolled": true
   },
   "outputs": [
    {
     "name": "stdout",
     "output_type": "stream",
     "text": [
      "Linear mixed model fit by REML. t-tests use Satterthwaite's method [\n",
      "lmerModLmerTest]\n",
      "Formula: Policy ~ condName + (1 | Country) + (1 | ResponseId) + (1 | Item)\n",
      "   Data: df_col_policy\n",
      "\n",
      "REML criterion at convergence: 1901984\n",
      "\n",
      "Scaled residuals: \n",
      "    Min      1Q  Median      3Q     Max \n",
      "-4.6188 -0.4948  0.1103  0.6516  4.3458 \n",
      "\n",
      "Random effects:\n",
      " Groups     Name        Variance Std.Dev.\n",
      " ResponseId (Intercept) 220.42   14.847  \n",
      " Country    (Intercept)  22.03    4.693  \n",
      " Item       (Intercept) 125.60   11.207  \n",
      " Residual               449.52   21.202  \n",
      "Number of obs: 208145, groups:  ResponseId, 24037; Country, 38; Item, 9\n",
      "\n",
      "Fixed effects:\n",
      "                           Estimate Std. Error         df t value Pr(>|t|)    \n",
      "(Intercept)                 72.6084     3.8303     8.8396  18.956 1.83e-08 ***\n",
      "condNameBindingMoral         0.5359     0.5159 23797.5258   1.039   0.2990    \n",
      "condNameCollectAction        2.4242     0.5116 23787.4935   4.739 2.16e-06 ***\n",
      "condNameDynamicNorm          1.0544     0.5123 23814.7369   2.058   0.0396 *  \n",
      "condNameFutureSelfCont       2.3507     0.5378 23815.8550   4.371 1.24e-05 ***\n",
      "condNameLetterFutureGen      2.4228     0.5384 23800.4293   4.500 6.82e-06 ***\n",
      "condNameNegativeEmotions    -1.1072     0.5132 23806.7944  -2.157   0.0310 *  \n",
      "condNamePluralIgnorance     -0.3418     0.5157 23806.3538  -0.663   0.5074    \n",
      "condNamePsychDistance       -0.1868     0.5354 23843.0478  -0.349   0.7272    \n",
      "condNameSciConsens           0.3916     0.5083 23810.1876   0.770   0.4410    \n",
      "condNameSystemJust           0.9986     0.5118 23783.9473   1.951   0.0511 .  \n",
      "condNameWorkTogetherNorm     0.6037     0.5109 23801.4592   1.182   0.2373    \n",
      "---\n",
      "Signif. codes:  0 ‘***’ 0.001 ‘**’ 0.01 ‘*’ 0.05 ‘.’ 0.1 ‘ ’ 1\n",
      "\n",
      "Correlation of Fixed Effects:\n",
      "            (Intr) cndNBM cndNCA cndNDN cnNFSC cnNLFG cndNNE cndNPI cndNPD\n",
      "cndNmBndngM -0.066                                                        \n",
      "cndNmCllctA -0.067  0.498                                                 \n",
      "cndNmDynmcN -0.067  0.498  0.502                                          \n",
      "cndNmFtrSlC -0.064  0.474  0.478  0.477                                   \n",
      "cndNmLttrFG -0.064  0.474  0.478  0.477  0.455                            \n",
      "cndNmNgtvEm -0.067  0.497  0.501  0.500  0.476  0.476                     \n",
      "cndNmPlrlIg -0.066  0.495  0.499  0.499  0.474  0.473  0.497              \n",
      "cndNmPsychD -0.064  0.477  0.480  0.479  0.457  0.456  0.478  0.476       \n",
      "cndNmScCnsn -0.067  0.502  0.506  0.505  0.481  0.481  0.504  0.502  0.484\n",
      "cndNmSystmJ -0.067  0.499  0.502  0.502  0.478  0.477  0.501  0.499  0.480\n",
      "cndNmWrkTgN -0.067  0.500  0.504  0.503  0.479  0.478  0.502  0.500  0.481\n",
      "            cndNSC cndNSJ\n",
      "cndNmBndngM              \n",
      "cndNmCllctA              \n",
      "cndNmDynmcN              \n",
      "cndNmFtrSlC              \n",
      "cndNmLttrFG              \n",
      "cndNmNgtvEm              \n",
      "cndNmPlrlIg              \n",
      "cndNmPsychD              \n",
      "cndNmScCnsn              \n",
      "cndNmSystmJ  0.506       \n",
      "cndNmWrkTgN  0.507  0.504\n"
     ]
    }
   ],
   "source": [
    "%%R\n",
    "M1 <- lmer(Policy ~ condName + (1 | Country) + (1 | ResponseId) + (1 | Item), data = df_col_policy)\n",
    "print(summary(M1))\n",
    "\n",
    "write.csv(coef(summary(M1)), \"coef_col_policy.csv\") #export coefficients to csv"
   ]
  },
  {
   "cell_type": "markdown",
   "metadata": {},
   "source": [
    "### Individualist Countries"
   ]
  },
  {
   "cell_type": "code",
   "execution_count": 12,
   "metadata": {
    "scrolled": true
   },
   "outputs": [
    {
     "name": "stdout",
     "output_type": "stream",
     "text": [
      "Linear mixed model fit by REML. t-tests use Satterthwaite's method [\n",
      "lmerModLmerTest]\n",
      "Formula: Policy ~ condName + (1 | Country) + (1 | ResponseId) + (1 | Item)\n",
      "   Data: df_ind_policy\n",
      "\n",
      "REML criterion at convergence: 2742990\n",
      "\n",
      "Scaled residuals: \n",
      "    Min      1Q  Median      3Q     Max \n",
      "-4.8523 -0.5431  0.0448  0.6275  4.8557 \n",
      "\n",
      "Random effects:\n",
      " Groups     Name        Variance Std.Dev.\n",
      " ResponseId (Intercept) 365.22   19.111  \n",
      " Country    (Intercept)  14.38    3.792  \n",
      " Item       (Intercept) 153.63   12.395  \n",
      " Residual               413.26   20.329  \n",
      "Number of obs: 301125, groups:  ResponseId, 34345; Country, 25; Item, 9\n",
      "\n",
      "Fixed effects:\n",
      "                           Estimate Std. Error         df t value Pr(>|t|)    \n",
      "(Intercept)                 66.9462     4.2182     8.6787  15.871 1.04e-07 ***\n",
      "condNameBindingMoral         0.8471     0.5308 34226.3608   1.596  0.11051    \n",
      "condNameCollectAction        3.2704     0.5307 34217.3241   6.163 7.23e-10 ***\n",
      "condNameDynamicNorm          1.1913     0.5296 34227.4973   2.249  0.02450 *  \n",
      "condNameFutureSelfCont       1.8036     0.5611 34224.7162   3.214  0.00131 ** \n",
      "condNameLetterFutureGen      3.0666     0.5729 34236.8929   5.353 8.71e-08 ***\n",
      "condNameNegativeEmotions     0.3187     0.5285 34209.2567   0.603  0.54654    \n",
      "condNamePluralIgnorance      0.7917     0.5263 34219.0703   1.504  0.13246    \n",
      "condNamePsychDistance        2.3393     0.5355 34245.1173   4.368 1.26e-05 ***\n",
      "condNameSciConsens           1.0637     0.5272 34238.9555   2.018  0.04362 *  \n",
      "condNameSystemJust           0.9645     0.5294 34222.5054   1.822  0.06846 .  \n",
      "condNameWorkTogetherNorm    -0.5677     0.5313 34251.7399  -1.068  0.28532    \n",
      "---\n",
      "Signif. codes:  0 ‘***’ 0.001 ‘**’ 0.01 ‘*’ 0.05 ‘.’ 0.1 ‘ ’ 1\n",
      "\n",
      "Correlation of Fixed Effects:\n",
      "            (Intr) cndNBM cndNCA cndNDN cnNFSC cnNLFG cndNNE cndNPI cndNPD\n",
      "cndNmBndngM -0.063                                                        \n",
      "cndNmCllctA -0.063  0.504                                                 \n",
      "cndNmDynmcN -0.063  0.505  0.505                                          \n",
      "cndNmFtrSlC -0.060  0.477  0.477  0.478                                   \n",
      "cndNmLttrFG -0.058  0.467  0.467  0.468  0.442                            \n",
      "cndNmNgtvEm -0.063  0.506  0.506  0.507  0.479  0.469                     \n",
      "cndNmPlrlIg -0.064  0.508  0.508  0.509  0.481  0.471  0.511              \n",
      "cndNmPsychD -0.063  0.500  0.500  0.501  0.473  0.463  0.502  0.504       \n",
      "cndNmScCnsn -0.064  0.507  0.507  0.509  0.480  0.470  0.510  0.512  0.503\n",
      "cndNmSystmJ -0.063  0.506  0.505  0.507  0.478  0.468  0.508  0.510  0.501\n",
      "cndNmWrkTgN -0.063  0.504  0.504  0.505  0.476  0.467  0.506  0.508  0.499\n",
      "            cndNSC cndNSJ\n",
      "cndNmBndngM              \n",
      "cndNmCllctA              \n",
      "cndNmDynmcN              \n",
      "cndNmFtrSlC              \n",
      "cndNmLttrFG              \n",
      "cndNmNgtvEm              \n",
      "cndNmPlrlIg              \n",
      "cndNmPsychD              \n",
      "cndNmScCnsn              \n",
      "cndNmSystmJ  0.509       \n",
      "cndNmWrkTgN  0.507  0.505\n"
     ]
    }
   ],
   "source": [
    "%%R\n",
    "M1 <- lmer(Policy ~ condName + (1 | Country) + (1 | ResponseId) + (1 | Item), data = df_ind_policy)\n",
    "print(summary(M1))\n",
    "\n",
    "write.csv(coef(summary(M1)), \"coef_ind_policy.csv\") #export coefficients to csv"
   ]
  },
  {
   "cell_type": "markdown",
   "metadata": {},
   "source": [
    "# 1.3 Sharing"
   ]
  },
  {
   "cell_type": "code",
   "execution_count": 13,
   "metadata": {},
   "outputs": [],
   "source": [
    "cols_to_check = [\"ResponseId\", \"condName\", \"SHAREcc\"]\n",
    "df_share = df.dropna(subset=cols_to_check)\n",
    "df_share['condName'] = df_share['condName'].replace(['Control'], 'aControl')"
   ]
  },
  {
   "cell_type": "code",
   "execution_count": 14,
   "metadata": {},
   "outputs": [],
   "source": [
    "df_col_share = df_share.loc[df_share['Ind_ms']==1] #dataframe for collectivist countries\n",
    "df_ind_share = df_share.loc[df_share['Ind_ms']==2] #dataframe for individualist countries\n",
    "%Rpush df_col_share\n",
    "%Rpush df_ind_share"
   ]
  },
  {
   "cell_type": "markdown",
   "metadata": {},
   "source": [
    "### Collectivist Countries"
   ]
  },
  {
   "cell_type": "code",
   "execution_count": 15,
   "metadata": {
    "scrolled": true
   },
   "outputs": [
    {
     "name": "stdout",
     "output_type": "stream",
     "text": [
      "Generalized linear mixed model fit by maximum likelihood (Laplace\n",
      "  Approximation) [glmerMod]\n",
      " Family: binomial  ( logit )\n",
      "Formula: SHAREcc ~ condName + (1 | Country)\n",
      "   Data: df_col_share\n",
      "\n",
      "     AIC      BIC   logLik deviance df.resid \n",
      " 20390.7  20492.9 -10182.4  20364.7    19115 \n",
      "\n",
      "Scaled residuals: \n",
      "    Min      1Q  Median      3Q     Max \n",
      "-4.3089 -0.6039  0.4191  0.5981  2.5610 \n",
      "\n",
      "Random effects:\n",
      " Groups  Name        Variance Std.Dev.\n",
      " Country (Intercept) 1.206    1.098   \n",
      "Number of obs: 19128, groups:  Country, 38\n",
      "\n",
      "Fixed effects:\n",
      "                         Estimate Std. Error z value Pr(>|z|)    \n",
      "(Intercept)               0.42912    0.18710   2.294 0.021818 *  \n",
      "condNameBindingMoral      0.30532    0.08075   3.781 0.000156 ***\n",
      "condNameCollectAction     0.60396    0.08247   7.323 2.43e-13 ***\n",
      "condNameDynamicNorm       0.45771    0.08129   5.631 1.80e-08 ***\n",
      "condNameFutureSelfCont    0.41963    0.08591   4.884 1.04e-06 ***\n",
      "condNameLetterFutureGen   0.42237    0.08657   4.879 1.07e-06 ***\n",
      "condNameNegativeEmotions  0.71237    0.08359   8.523  < 2e-16 ***\n",
      "condNamePluralIgnorance   0.20090    0.08003   2.510 0.012061 *  \n",
      "condNamePsychDistance     0.39113    0.08584   4.557 5.20e-06 ***\n",
      "condNameSciConsens        0.27492    0.07989   3.441 0.000579 ***\n",
      "condNameSystemJust        0.35515    0.08084   4.393 1.12e-05 ***\n",
      "condNameWorkTogetherNorm  0.42625    0.08016   5.318 1.05e-07 ***\n",
      "---\n",
      "Signif. codes:  0 ‘***’ 0.001 ‘**’ 0.01 ‘*’ 0.05 ‘.’ 0.1 ‘ ’ 1\n",
      "\n",
      "Correlation of Fixed Effects:\n",
      "            (Intr) cndNBM cndNCA cndNDN cnNFSC cnNLFG cndNNE cndNPI cndNPD\n",
      "cndNmBndngM -0.204                                                        \n",
      "cndNmCllctA -0.201  0.467                                                 \n",
      "cndNmDynmcN -0.203  0.474  0.464                                          \n",
      "cndNmFtrSlC -0.192  0.447  0.439  0.445                                   \n",
      "cndNmLttrFG -0.191  0.445  0.435  0.441  0.418                            \n",
      "cndNmNgtvEm -0.198  0.462  0.453  0.459  0.433  0.430                     \n",
      "cndNmPlrlIg -0.205  0.481  0.471  0.478  0.451  0.448  0.465              \n",
      "cndNmPsychD -0.193  0.450  0.439  0.445  0.420  0.417  0.433  0.452       \n",
      "cndNmScCnsn -0.207  0.482  0.472  0.478  0.452  0.449  0.466  0.486  0.453\n",
      "cndNmSystmJ -0.204  0.476  0.467  0.474  0.447  0.444  0.461  0.481  0.447\n",
      "cndNmWrkTgN -0.206  0.481  0.471  0.478  0.451  0.448  0.466  0.485  0.452\n",
      "            cndNSC cndNSJ\n",
      "cndNmBndngM              \n",
      "cndNmCllctA              \n",
      "cndNmDynmcN              \n",
      "cndNmFtrSlC              \n",
      "cndNmLttrFG              \n",
      "cndNmNgtvEm              \n",
      "cndNmPlrlIg              \n",
      "cndNmPsychD              \n",
      "cndNmScCnsn              \n",
      "cndNmSystmJ  0.481       \n",
      "cndNmWrkTgN  0.486  0.481\n"
     ]
    }
   ],
   "source": [
    "%%R\n",
    "M1 <- glmer(SHAREcc ~ condName + (1 | Country), family = binomial, data = df_col_share)\n",
    "print(summary(M1))\n",
    "\n",
    "write.csv(coef(summary(M1)), \"coef_col_share.csv\") #export coefficients to csv"
   ]
  },
  {
   "cell_type": "markdown",
   "metadata": {},
   "source": [
    "### Individualist Countries"
   ]
  },
  {
   "cell_type": "code",
   "execution_count": 16,
   "metadata": {
    "scrolled": true
   },
   "outputs": [
    {
     "name": "stdout",
     "output_type": "stream",
     "text": [
      "Generalized linear mixed model fit by maximum likelihood (Laplace\n",
      "  Approximation) [glmerMod]\n",
      " Family: binomial  ( logit )\n",
      "Formula: SHAREcc ~ condName + (1 | Country)\n",
      "   Data: df_ind_share\n",
      "\n",
      "     AIC      BIC   logLik deviance df.resid \n",
      " 31354.9  31460.3 -15664.4  31328.9    24515 \n",
      "\n",
      "Scaled residuals: \n",
      "    Min      1Q  Median      3Q     Max \n",
      "-1.9760 -0.8137 -0.4808  0.8616  2.4138 \n",
      "\n",
      "Random effects:\n",
      " Groups  Name        Variance Std.Dev.\n",
      " Country (Intercept) 0.5497   0.7414  \n",
      "Number of obs: 24528, groups:  Country, 25\n",
      "\n",
      "Fixed effects:\n",
      "                         Estimate Std. Error z value Pr(>|z|)    \n",
      "(Intercept)              -0.54519    0.15591  -3.497 0.000471 ***\n",
      "condNameBindingMoral      0.11517    0.06472   1.780 0.075127 .  \n",
      "condNameCollectAction     0.26636    0.06567   4.056 5.00e-05 ***\n",
      "condNameDynamicNorm       0.21922    0.06514   3.365 0.000764 ***\n",
      "condNameFutureSelfCont    0.25089    0.06889   3.642 0.000271 ***\n",
      "condNameLetterFutureGen   0.37937    0.07037   5.391 6.99e-08 ***\n",
      "condNameNegativeEmotions  0.35065    0.06584   5.326 1.01e-07 ***\n",
      "condNamePluralIgnorance   0.03456    0.06488   0.533 0.594243    \n",
      "condNamePsychDistance     0.31774    0.06637   4.787 1.69e-06 ***\n",
      "condNameSciConsens        0.12652    0.06448   1.962 0.049756 *  \n",
      "condNameSystemJust        0.15778    0.06502   2.426 0.015247 *  \n",
      "condNameWorkTogetherNorm  0.11917    0.06466   1.843 0.065322 .  \n",
      "---\n",
      "Signif. codes:  0 ‘***’ 0.001 ‘**’ 0.01 ‘*’ 0.05 ‘.’ 0.1 ‘ ’ 1\n",
      "\n",
      "Correlation of Fixed Effects:\n",
      "            (Intr) cndNBM cndNCA cndNDN cnNFSC cnNLFG cndNNE cndNPI cndNPD\n",
      "cndNmBndngM -0.211                                                        \n",
      "cndNmCllctA -0.209  0.502                                                 \n",
      "cndNmDynmcN -0.210  0.506  0.499                                          \n",
      "cndNmFtrSlC -0.199  0.478  0.471  0.475                                   \n",
      "cndNmLttrFG -0.195  0.468  0.461  0.465  0.439                            \n",
      "cndNmNgtvEm -0.208  0.501  0.494  0.498  0.470  0.460                     \n",
      "cndNmPlrlIg -0.211  0.508  0.501  0.505  0.477  0.467  0.499              \n",
      "cndNmPsychD -0.206  0.497  0.489  0.493  0.466  0.456  0.488  0.495       \n",
      "cndNmScCnsn -0.213  0.511  0.504  0.508  0.480  0.469  0.503  0.510  0.498\n",
      "cndNmSystmJ -0.211  0.507  0.500  0.504  0.476  0.466  0.498  0.506  0.494\n",
      "cndNmWrkTgN -0.212  0.510  0.502  0.506  0.479  0.468  0.501  0.509  0.497\n",
      "            cndNSC cndNSJ\n",
      "cndNmBndngM              \n",
      "cndNmCllctA              \n",
      "cndNmDynmcN              \n",
      "cndNmFtrSlC              \n",
      "cndNmLttrFG              \n",
      "cndNmNgtvEm              \n",
      "cndNmPlrlIg              \n",
      "cndNmPsychD              \n",
      "cndNmScCnsn              \n",
      "cndNmSystmJ  0.509       \n",
      "cndNmWrkTgN  0.512  0.508\n"
     ]
    }
   ],
   "source": [
    "%%R\n",
    "M1 <- glmer(SHAREcc ~ condName + (1 | Country), family = binomial, data = df_ind_share)\n",
    "print(summary(M1))\n",
    "\n",
    "write.csv(coef(summary(M1)), \"coef_ind_share.csv\") #export coefficients to csv"
   ]
  },
  {
   "cell_type": "markdown",
   "metadata": {},
   "source": [
    "# 1.4 WEPT"
   ]
  },
  {
   "cell_type": "code",
   "execution_count": 17,
   "metadata": {},
   "outputs": [],
   "source": [
    "cols_to_check = [\"ResponseId\", \"condName\", \"WEPTcc\"]\n",
    "df_WEPT = df.dropna(subset=cols_to_check)\n",
    "df_WEPT['condName'] = df_WEPT['condName'].replace(['Control'], 'aControl')"
   ]
  },
  {
   "cell_type": "code",
   "execution_count": 18,
   "metadata": {},
   "outputs": [],
   "source": [
    "df_col_WEPT = df_WEPT.loc[df_WEPT['Ind_ms']==1] #dataframe for collectivist countries\n",
    "df_ind_WEPT = df_WEPT.loc[df_WEPT['Ind_ms']==2] #dataframe for individualist countries\n",
    "%Rpush df_col_WEPT\n",
    "%Rpush df_ind_WEPT"
   ]
  },
  {
   "cell_type": "markdown",
   "metadata": {},
   "source": [
    "### Collectivist Countries"
   ]
  },
  {
   "cell_type": "code",
   "execution_count": 19,
   "metadata": {
    "scrolled": true
   },
   "outputs": [
    {
     "name": "stdout",
     "output_type": "stream",
     "text": [
      "Cumulative Link Mixed Model fitted with the Laplace approximation\n",
      "\n",
      "formula: as.factor(WEPTcc) ~ condName + (1 | Country)\n",
      "data:    df_col_WEPT\n",
      "\n",
      " link  threshold   nobs  logLik    AIC      niter      max.grad cond.H \n",
      " logit equidistant 24233 -39844.78 79717.55 1967(7873) 7.79e-02 5.7e+03\n",
      "\n",
      "Random effects:\n",
      " Groups  Name        Variance Std.Dev.\n",
      " Country (Intercept) 0.2804   0.5295  \n",
      "Number of groups:  Country 38 \n",
      "\n",
      "Coefficients:\n",
      "                         Estimate Std. Error z value Pr(>|z|)    \n",
      "condNameBindingMoral     -0.04643    0.05969  -0.778  0.43661    \n",
      "condNameCollectAction    -0.10226    0.05900  -1.733  0.08303 .  \n",
      "condNameDynamicNorm      -0.04161    0.05919  -0.703  0.48198    \n",
      "condNameFutureSelfCont   -0.17535    0.06169  -2.843  0.00448 ** \n",
      "condNameLetterFutureGen  -0.24773    0.06136  -4.037 5.41e-05 ***\n",
      "condNameNegativeEmotions -0.32771    0.05848  -5.604 2.09e-08 ***\n",
      "condNamePluralIgnorance  -0.13633    0.05948  -2.292  0.02190 *  \n",
      "condNamePsychDistance    -0.33341    0.06101  -5.465 4.63e-08 ***\n",
      "condNameSciConsens       -0.03761    0.05876  -0.640  0.52214    \n",
      "condNameSystemJust       -0.14940    0.05881  -2.540  0.01108 *  \n",
      "condNameWorkTogetherNorm -0.27084    0.05842  -4.636 3.55e-06 ***\n",
      "---\n",
      "Signif. codes:  0 ‘***’ 0.001 ‘**’ 0.01 ‘*’ 0.05 ‘.’ 0.1 ‘ ’ 1\n",
      "\n",
      "Threshold coefficients:\n",
      "             Estimate Std. Error z value\n",
      "threshold.1 -1.418424   0.096344  -14.72\n",
      "spacing      0.203630   0.002044   99.63\n"
     ]
    }
   ],
   "source": [
    "%%R\n",
    "M1 <- clmm(as.factor(WEPTcc) ~ condName + (1 | Country), data = df_col_WEPT, threshold = \"equidistant\")\n",
    "print(summary(M1))\n",
    "\n",
    "write.csv(coef(summary(M1)), \"coef_col_wept.csv\") #export coefficients to csv"
   ]
  },
  {
   "cell_type": "markdown",
   "metadata": {},
   "source": [
    "### Individualist Countries"
   ]
  },
  {
   "cell_type": "code",
   "execution_count": 20,
   "metadata": {},
   "outputs": [
    {
     "name": "stdout",
     "output_type": "stream",
     "text": [
      "Cumulative Link Mixed Model fitted with the Laplace approximation\n",
      "\n",
      "formula: as.factor(WEPTcc) ~ condName + (1 | Country)\n",
      "data:    df_ind_WEPT\n",
      "\n",
      " link  threshold   nobs  logLik    AIC       niter      max.grad cond.H \n",
      " logit equidistant 34647 -56474.87 112977.75 1664(4997) 1.04e-01 8.2e+03\n",
      "\n",
      "Random effects:\n",
      " Groups  Name        Variance Std.Dev.\n",
      " Country (Intercept) 0.1401   0.3743  \n",
      "Number of groups:  Country 25 \n",
      "\n",
      "Coefficients:\n",
      "                         Estimate Std. Error z value Pr(>|z|)    \n",
      "condNameBindingMoral      0.07716    0.04960   1.555  0.11983    \n",
      "condNameCollectAction    -0.12802    0.04895  -2.615  0.00891 ** \n",
      "condNameDynamicNorm       0.03135    0.04928   0.636  0.52464    \n",
      "condNameFutureSelfCont   -0.08601    0.05206  -1.652  0.09847 .  \n",
      "condNameLetterFutureGen  -0.21411    0.05254  -4.075 4.60e-05 ***\n",
      "condNameNegativeEmotions -0.26765    0.04856  -5.511 3.56e-08 ***\n",
      "condNamePluralIgnorance  -0.02130    0.04899  -0.435  0.66378    \n",
      "condNamePsychDistance    -0.23897    0.04919  -4.858 1.18e-06 ***\n",
      "condNameSciConsens        0.06512    0.04918   1.324  0.18544    \n",
      "condNameSystemJust        0.01306    0.04931   0.265  0.79118    \n",
      "condNameWorkTogetherNorm -0.24119    0.04887  -4.936 7.98e-07 ***\n",
      "---\n",
      "Signif. codes:  0 ‘***’ 0.001 ‘**’ 0.01 ‘*’ 0.05 ‘.’ 0.1 ‘ ’ 1\n",
      "\n",
      "Threshold coefficients:\n",
      "             Estimate Std. Error z value\n",
      "threshold.1 -1.295452   0.083423  -15.53\n",
      "spacing      0.186646   0.001615  115.55\n"
     ]
    }
   ],
   "source": [
    "%%R\n",
    "M1 <- clmm(as.factor(WEPTcc) ~ condName + (1 | Country), data = df_ind_WEPT, threshold = \"equidistant\")\n",
    "print(summary(M1))\n",
    "\n",
    "write.csv(coef(summary(M1)), \"coef_ind_wept.csv\") #export coefficients to csv"
   ]
  }
 ],
 "metadata": {
  "kernelspec": {
   "display_name": "Python 3 (ipykernel)",
   "language": "python",
   "name": "python3"
  },
  "language_info": {
   "codemirror_mode": {
    "name": "ipython",
    "version": 3
   },
   "file_extension": ".py",
   "mimetype": "text/x-python",
   "name": "python",
   "nbconvert_exporter": "python",
   "pygments_lexer": "ipython3",
   "version": "3.11.4"
  }
 },
 "nbformat": 4,
 "nbformat_minor": 4
}
